{
 "cells": [
  {
   "cell_type": "code",
   "execution_count": 273,
   "id": "ec5b9413",
   "metadata": {},
   "outputs": [],
   "source": [
    "import pandas as pd"
   ]
  },
  {
   "cell_type": "code",
   "execution_count": 274,
   "id": "bea9dac7",
   "metadata": {},
   "outputs": [],
   "source": [
    "train_features = pd.read_csv('C:\\\\Users\\\\sarva\\\\Downloads\\\\training_set_features.csv')\n",
    "train_labels = pd.read_csv('C:\\\\Users\\\\sarva\\\\Downloads\\\\training_set_labels.csv')\n",
    "test_features = pd.read_csv('C:\\\\Users\\\\sarva\\\\Downloads\\\\test_set_features.csv')\n",
    "#train_features.head()\n",
    "#train_labels.head()\n",
    "#test_features.head()"
   ]
  },
  {
   "cell_type": "code",
   "execution_count": 275,
   "id": "043c720d",
   "metadata": {
    "scrolled": true
   },
   "outputs": [],
   "source": [
    "train_data=pd.merge(train_features,train_labels,on='respondent_id')\n",
    "#train_data.head()"
   ]
  },
  {
   "cell_type": "code",
   "execution_count": 276,
   "id": "aec32bd2",
   "metadata": {},
   "outputs": [],
   "source": [
    "train_data = train_data.drop(['respondent_id'], axis=1)"
   ]
  },
  {
   "cell_type": "code",
   "execution_count": 277,
   "id": "b02186c6",
   "metadata": {},
   "outputs": [
    {
     "data": {
      "text/plain": [
       "xyz_concern                       92\n",
       "xyz_knowledge                    116\n",
       "behavioral_antiviral_meds         71\n",
       "behavioral_avoidance             208\n",
       "behavioral_face_mask              19\n",
       "behavioral_wash_hands             42\n",
       "behavioral_large_gatherings       87\n",
       "behavioral_outside_home           82\n",
       "behavioral_touch_face            128\n",
       "doctor_recc_xyz                 2160\n",
       "doctor_recc_seasonal            2160\n",
       "chronic_med_condition            971\n",
       "child_under_6_months             820\n",
       "health_worker                    804\n",
       "health_insurance               12274\n",
       "opinion_xyz_vacc_effective       391\n",
       "opinion_xyz_risk                 388\n",
       "opinion_xyz_sick_from_vacc       395\n",
       "opinion_seas_vacc_effective      462\n",
       "opinion_seas_risk                514\n",
       "opinion_seas_sick_from_vacc      537\n",
       "age_group                          0\n",
       "education                       1407\n",
       "race                               0\n",
       "sex                                0\n",
       "income_poverty                  4423\n",
       "marital_status                  1408\n",
       "rent_or_own                     2042\n",
       "employment_status               1463\n",
       "hhs_geo_region                     0\n",
       "census_msa                         0\n",
       "household_adults                 249\n",
       "household_children               249\n",
       "employment_industry            13330\n",
       "employment_occupation          13470\n",
       "xyz_vaccine                        0\n",
       "seasonal_vaccine                   0\n",
       "dtype: int64"
      ]
     },
     "execution_count": 277,
     "metadata": {},
     "output_type": "execute_result"
    }
   ],
   "source": [
    "missing_values = train_data.isnull().sum()\n",
    "missing_values"
   ]
  },
  {
   "cell_type": "code",
   "execution_count": 278,
   "id": "84b075af",
   "metadata": {},
   "outputs": [],
   "source": [
    "train_data['health_insurance'].fillna(1, inplace=True)"
   ]
  },
  {
   "cell_type": "code",
   "execution_count": 279,
   "id": "2bfabe34",
   "metadata": {},
   "outputs": [],
   "source": [
    "train_data.drop(columns=['employment_industry', 'employment_occupation'], inplace=True)"
   ]
  },
  {
   "cell_type": "code",
   "execution_count": 280,
   "id": "7381a805",
   "metadata": {},
   "outputs": [],
   "source": [
    "mode_xyz_concern = train_data['xyz_concern'].mode()[0]\n",
    "train_data['xyz_concern'].fillna(mode_xyz_concern, inplace=True)"
   ]
  },
  {
   "cell_type": "code",
   "execution_count": 281,
   "id": "29c4fbee",
   "metadata": {},
   "outputs": [],
   "source": [
    "mode_xyz_knowledge = train_data['xyz_knowledge'].mode()[0]\n",
    "train_data['xyz_knowledge'].fillna(mode_xyz_knowledge, inplace=True)"
   ]
  },
  {
   "cell_type": "code",
   "execution_count": 282,
   "id": "ec5fb126",
   "metadata": {},
   "outputs": [],
   "source": [
    "train_data.drop(columns=[ 'education', 'race', 'sex', 'marital_status', 'rent_or_own', 'household_adults', 'household_children'], inplace=True)"
   ]
  },
  {
   "cell_type": "code",
   "execution_count": 283,
   "id": "4d99b92e",
   "metadata": {},
   "outputs": [],
   "source": [
    "import matplotlib.pyplot as plt"
   ]
  },
  {
   "cell_type": "code",
   "execution_count": 284,
   "id": "524bab56",
   "metadata": {},
   "outputs": [
    {
     "data": {
      "text/plain": [
       "<Axes: xlabel='seasonal_vaccine', ylabel='count'>"
      ]
     },
     "execution_count": 284,
     "metadata": {},
     "output_type": "execute_result"
    },
    {
     "data": {
      "image/png": "[encoded data removed]",
      "text/plain": [
       "<Figure size 640x480 with 1 Axes>"
      ]
     },
     "metadata": {},
     "output_type": "display_data"
    }
   ],
   "source": [
    "import seaborn as sns\n",
    "sns.countplot(data=train_data,hue='doctor_recc_seasonal',x='seasonal_vaccine')"
   ]
  },
  {
   "cell_type": "code",
   "execution_count": null,
   "id": "97c54f58",
   "metadata": {},
   "outputs": [],
   "source": []
  },
  {
   "cell_type": "code",
   "execution_count": null,
   "id": "4019c7a5",
   "metadata": {},
   "outputs": [],
   "source": []
  },
  {
   "cell_type": "code",
   "execution_count": 285,
   "id": "9f82b43c",
   "metadata": {},
   "outputs": [],
   "source": [
    "train_data.drop(columns=['income_poverty'], inplace=True)"
   ]
  },
  {
   "cell_type": "code",
   "execution_count": 286,
   "id": "3b847ff6",
   "metadata": {},
   "outputs": [
    {
     "data": {
      "text/plain": [
       "array(['55 - 64 Years', '35 - 44 Years', '18 - 34 Years', '65+ Years',\n",
       "       '45 - 54 Years'], dtype=object)"
      ]
     },
     "execution_count": 286,
     "metadata": {},
     "output_type": "execute_result"
    }
   ],
   "source": [
    "train_data['age_group'].unique()"
   ]
  },
  {
   "cell_type": "code",
   "execution_count": 287,
   "id": "3a95f2eb",
   "metadata": {},
   "outputs": [],
   "source": [
    "train_data['employment_status']=train_data['employment_status'].map({'Not in Labor Force':0,'Employed':1,'Unemployed':2})"
   ]
  },
  {
   "cell_type": "code",
   "execution_count": 288,
   "id": "00a3dbc7",
   "metadata": {},
   "outputs": [
    {
     "name": "stdout",
     "output_type": "stream",
     "text": [
      "<class 'pandas.core.frame.DataFrame'>\n",
      "Int64Index: 26707 entries, 0 to 26706\n",
      "Data columns (total 27 columns):\n",
      " #   Column                       Non-Null Count  Dtype  \n",
      "---  ------                       --------------  -----  \n",
      " 0   xyz_concern                  26707 non-null  float64\n",
      " 1   xyz_knowledge                26707 non-null  float64\n",
      " 2   behavioral_antiviral_meds    26636 non-null  float64\n",
      " 3   behavioral_avoidance         26499 non-null  float64\n",
      " 4   behavioral_face_mask         26688 non-null  float64\n",
      " 5   behavioral_wash_hands        26665 non-null  float64\n",
      " 6   behavioral_large_gatherings  26620 non-null  float64\n",
      " 7   behavioral_outside_home      26625 non-null  float64\n",
      " 8   behavioral_touch_face        26579 non-null  float64\n",
      " 9   doctor_recc_xyz              24547 non-null  float64\n",
      " 10  doctor_recc_seasonal         24547 non-null  float64\n",
      " 11  chronic_med_condition        25736 non-null  float64\n",
      " 12  child_under_6_months         25887 non-null  float64\n",
      " 13  health_worker                25903 non-null  float64\n",
      " 14  health_insurance             26707 non-null  float64\n",
      " 15  opinion_xyz_vacc_effective   26316 non-null  float64\n",
      " 16  opinion_xyz_risk             26319 non-null  float64\n",
      " 17  opinion_xyz_sick_from_vacc   26312 non-null  float64\n",
      " 18  opinion_seas_vacc_effective  26245 non-null  float64\n",
      " 19  opinion_seas_risk            26193 non-null  float64\n",
      " 20  opinion_seas_sick_from_vacc  26170 non-null  float64\n",
      " 21  age_group                    26707 non-null  object \n",
      " 22  employment_status            25244 non-null  float64\n",
      " 23  hhs_geo_region               26707 non-null  object \n",
      " 24  census_msa                   26707 non-null  object \n",
      " 25  xyz_vaccine                  26707 non-null  int64  \n",
      " 26  seasonal_vaccine             26707 non-null  int64  \n",
      "dtypes: float64(22), int64(2), object(3)\n",
      "memory usage: 5.7+ MB\n"
     ]
    }
   ],
   "source": [
    "train_data.info()"
   ]
  },
  {
   "cell_type": "code",
   "execution_count": 289,
   "id": "dc9bbc20",
   "metadata": {},
   "outputs": [],
   "source": [
    "train_data['age_group']=train_data['age_group'].map({'55 - 64 Years':0,'35 - 44 Years':1,'18 - 34 Years':2,'65+ Years':3,'45 - 54 Years':4})"
   ]
  },
  {
   "cell_type": "code",
   "execution_count": 290,
   "id": "ca2913ed",
   "metadata": {},
   "outputs": [
    {
     "name": "stdout",
     "output_type": "stream",
     "text": [
      "<class 'pandas.core.frame.DataFrame'>\n",
      "Int64Index: 26707 entries, 0 to 26706\n",
      "Data columns (total 27 columns):\n",
      " #   Column                       Non-Null Count  Dtype  \n",
      "---  ------                       --------------  -----  \n",
      " 0   xyz_concern                  26707 non-null  float64\n",
      " 1   xyz_knowledge                26707 non-null  float64\n",
      " 2   behavioral_antiviral_meds    26636 non-null  float64\n",
      " 3   behavioral_avoidance         26499 non-null  float64\n",
      " 4   behavioral_face_mask         26688 non-null  float64\n",
      " 5   behavioral_wash_hands        26665 non-null  float64\n",
      " 6   behavioral_large_gatherings  26620 non-null  float64\n",
      " 7   behavioral_outside_home      26625 non-null  float64\n",
      " 8   behavioral_touch_face        26579 non-null  float64\n",
      " 9   doctor_recc_xyz              24547 non-null  float64\n",
      " 10  doctor_recc_seasonal         24547 non-null  float64\n",
      " 11  chronic_med_condition        25736 non-null  float64\n",
      " 12  child_under_6_months         25887 non-null  float64\n",
      " 13  health_worker                25903 non-null  float64\n",
      " 14  health_insurance             26707 non-null  float64\n",
      " 15  opinion_xyz_vacc_effective   26316 non-null  float64\n",
      " 16  opinion_xyz_risk             26319 non-null  float64\n",
      " 17  opinion_xyz_sick_from_vacc   26312 non-null  float64\n",
      " 18  opinion_seas_vacc_effective  26245 non-null  float64\n",
      " 19  opinion_seas_risk            26193 non-null  float64\n",
      " 20  opinion_seas_sick_from_vacc  26170 non-null  float64\n",
      " 21  age_group                    26707 non-null  int64  \n",
      " 22  employment_status            25244 non-null  float64\n",
      " 23  hhs_geo_region               26707 non-null  object \n",
      " 24  census_msa                   26707 non-null  object \n",
      " 25  xyz_vaccine                  26707 non-null  int64  \n",
      " 26  seasonal_vaccine             26707 non-null  int64  \n",
      "dtypes: float64(22), int64(3), object(2)\n",
      "memory usage: 5.7+ MB\n"
     ]
    }
   ],
   "source": [
    "train_data.info()"
   ]
  },
  {
   "cell_type": "code",
   "execution_count": 291,
   "id": "de85816d",
   "metadata": {},
   "outputs": [],
   "source": [
    "train_data = train_data.drop(columns=['hhs_geo_region', 'census_msa'])"
   ]
  },
  {
   "cell_type": "code",
   "execution_count": 292,
   "id": "b8af15d3",
   "metadata": {
    "scrolled": false
   },
   "outputs": [
    {
     "name": "stdout",
     "output_type": "stream",
     "text": [
      "<class 'pandas.core.frame.DataFrame'>\n",
      "Int64Index: 26707 entries, 0 to 26706\n",
      "Data columns (total 25 columns):\n",
      " #   Column                       Non-Null Count  Dtype  \n",
      "---  ------                       --------------  -----  \n",
      " 0   xyz_concern                  26707 non-null  float64\n",
      " 1   xyz_knowledge                26707 non-null  float64\n",
      " 2   behavioral_antiviral_meds    26636 non-null  float64\n",
      " 3   behavioral_avoidance         26499 non-null  float64\n",
      " 4   behavioral_face_mask         26688 non-null  float64\n",
      " 5   behavioral_wash_hands        26665 non-null  float64\n",
      " 6   behavioral_large_gatherings  26620 non-null  float64\n",
      " 7   behavioral_outside_home      26625 non-null  float64\n",
      " 8   behavioral_touch_face        26579 non-null  float64\n",
      " 9   doctor_recc_xyz              24547 non-null  float64\n",
      " 10  doctor_recc_seasonal         24547 non-null  float64\n",
      " 11  chronic_med_condition        25736 non-null  float64\n",
      " 12  child_under_6_months         25887 non-null  float64\n",
      " 13  health_worker                25903 non-null  float64\n",
      " 14  health_insurance             26707 non-null  float64\n",
      " 15  opinion_xyz_vacc_effective   26316 non-null  float64\n",
      " 16  opinion_xyz_risk             26319 non-null  float64\n",
      " 17  opinion_xyz_sick_from_vacc   26312 non-null  float64\n",
      " 18  opinion_seas_vacc_effective  26245 non-null  float64\n",
      " 19  opinion_seas_risk            26193 non-null  float64\n",
      " 20  opinion_seas_sick_from_vacc  26170 non-null  float64\n",
      " 21  age_group                    26707 non-null  int64  \n",
      " 22  employment_status            25244 non-null  float64\n",
      " 23  xyz_vaccine                  26707 non-null  int64  \n",
      " 24  seasonal_vaccine             26707 non-null  int64  \n",
      "dtypes: float64(22), int64(3)\n",
      "memory usage: 5.3 MB\n"
     ]
    }
   ],
   "source": [
    "train_data.info()"
   ]
  },
  {
   "cell_type": "code",
   "execution_count": null,
   "id": "c0c60a15",
   "metadata": {},
   "outputs": [],
   "source": []
  },
  {
   "cell_type": "code",
   "execution_count": 293,
   "id": "616de3d0",
   "metadata": {},
   "outputs": [
    {
     "data": {
      "text/plain": [
       "(26707, 25)"
      ]
     },
     "execution_count": 293,
     "metadata": {},
     "output_type": "execute_result"
    }
   ],
   "source": [
    "train_data.shape"
   ]
  },
  {
   "cell_type": "code",
   "execution_count": 294,
   "id": "8c67133c",
   "metadata": {},
   "outputs": [],
   "source": [
    "train_data=train_data.drop(columns=['employment_status'])"
   ]
  },
  {
   "cell_type": "code",
   "execution_count": 295,
   "id": "db588b5e",
   "metadata": {},
   "outputs": [
    {
     "data": {
      "text/plain": [
       "xyz_concern                       0\n",
       "xyz_knowledge                     0\n",
       "behavioral_antiviral_meds        71\n",
       "behavioral_avoidance            208\n",
       "behavioral_face_mask             19\n",
       "behavioral_wash_hands            42\n",
       "behavioral_large_gatherings      87\n",
       "behavioral_outside_home          82\n",
       "behavioral_touch_face           128\n",
       "doctor_recc_xyz                2160\n",
       "doctor_recc_seasonal           2160\n",
       "chronic_med_condition           971\n",
       "child_under_6_months            820\n",
       "health_worker                   804\n",
       "health_insurance                  0\n",
       "opinion_xyz_vacc_effective      391\n",
       "opinion_xyz_risk                388\n",
       "opinion_xyz_sick_from_vacc      395\n",
       "opinion_seas_vacc_effective     462\n",
       "opinion_seas_risk               514\n",
       "opinion_seas_sick_from_vacc     537\n",
       "age_group                         0\n",
       "xyz_vaccine                       0\n",
       "seasonal_vaccine                  0\n",
       "dtype: int64"
      ]
     },
     "execution_count": 295,
     "metadata": {},
     "output_type": "execute_result"
    }
   ],
   "source": [
    "train_data.isna().sum()"
   ]
  },
  {
   "cell_type": "code",
   "execution_count": 296,
   "id": "12e11c3d",
   "metadata": {},
   "outputs": [
    {
     "data": {
      "text/plain": [
       "0.0    25335\n",
       "1.0     1301\n",
       "Name: behavioral_antiviral_meds, dtype: int64"
      ]
     },
     "execution_count": 296,
     "metadata": {},
     "output_type": "execute_result"
    }
   ],
   "source": [
    "value_counts = train_data['behavioral_antiviral_meds'].value_counts()\n",
    "value_counts"
   ]
  },
  {
   "cell_type": "code",
   "execution_count": 297,
   "id": "1578222a",
   "metadata": {},
   "outputs": [],
   "source": [
    "train_data['behavioral_antiviral_meds'] = train_data['behavioral_antiviral_meds'].fillna(0)"
   ]
  },
  {
   "cell_type": "code",
   "execution_count": 298,
   "id": "0eea99b8",
   "metadata": {},
   "outputs": [
    {
     "data": {
      "text/plain": [
       "1.0    11870\n",
       "2.0     7633\n",
       "4.0     4852\n",
       "5.0     1721\n",
       "3.0       94\n",
       "Name: opinion_seas_sick_from_vacc, dtype: int64"
      ]
     },
     "execution_count": 298,
     "metadata": {},
     "output_type": "execute_result"
    }
   ],
   "source": [
    "value_counts1 = train_data['opinion_seas_sick_from_vacc'].value_counts()\n",
    "value_counts1"
   ]
  },
  {
   "cell_type": "code",
   "execution_count": 299,
   "id": "05b6eab5",
   "metadata": {},
   "outputs": [],
   "source": [
    "train_data['behavioral_face_mask'] = train_data['behavioral_face_mask'].fillna(0)"
   ]
  },
  {
   "cell_type": "code",
   "execution_count": 300,
   "id": "b55f6361",
   "metadata": {},
   "outputs": [
    {
     "data": {
      "text/plain": [
       "xyz_concern                       0\n",
       "xyz_knowledge                     0\n",
       "behavioral_antiviral_meds         0\n",
       "behavioral_avoidance            208\n",
       "behavioral_face_mask              0\n",
       "behavioral_wash_hands            42\n",
       "behavioral_large_gatherings      87\n",
       "behavioral_outside_home          82\n",
       "behavioral_touch_face           128\n",
       "doctor_recc_xyz                2160\n",
       "doctor_recc_seasonal           2160\n",
       "chronic_med_condition           971\n",
       "child_under_6_months            820\n",
       "health_worker                   804\n",
       "health_insurance                  0\n",
       "opinion_xyz_vacc_effective      391\n",
       "opinion_xyz_risk                388\n",
       "opinion_xyz_sick_from_vacc      395\n",
       "opinion_seas_vacc_effective     462\n",
       "opinion_seas_risk               514\n",
       "opinion_seas_sick_from_vacc     537\n",
       "age_group                         0\n",
       "xyz_vaccine                       0\n",
       "seasonal_vaccine                  0\n",
       "dtype: int64"
      ]
     },
     "execution_count": 300,
     "metadata": {},
     "output_type": "execute_result"
    }
   ],
   "source": [
    "train_data.isna().sum()"
   ]
  },
  {
   "cell_type": "code",
   "execution_count": 301,
   "id": "b1541bfc",
   "metadata": {},
   "outputs": [
    {
     "data": {
      "text/plain": [
       "1.0    11870\n",
       "2.0     7633\n",
       "4.0     4852\n",
       "5.0     1721\n",
       "3.0       94\n",
       "Name: opinion_seas_sick_from_vacc, dtype: int64"
      ]
     },
     "execution_count": 301,
     "metadata": {},
     "output_type": "execute_result"
    }
   ],
   "source": [
    "value_counts2 = train_data['opinion_seas_sick_from_vacc'].value_counts()\n",
    "value_counts2"
   ]
  },
  {
   "cell_type": "code",
   "execution_count": 302,
   "id": "28edf971",
   "metadata": {},
   "outputs": [
    {
     "data": {
      "text/plain": [
       "1.0    11870\n",
       "2.0     7633\n",
       "4.0     4852\n",
       "5.0     1721\n",
       "3.0       94\n",
       "Name: opinion_seas_sick_from_vacc, dtype: int64"
      ]
     },
     "execution_count": 302,
     "metadata": {},
     "output_type": "execute_result"
    }
   ],
   "source": [
    "value_counts1 = train_data['opinion_seas_sick_from_vacc'].value_counts()\n",
    "value_counts1"
   ]
  },
  {
   "cell_type": "code",
   "execution_count": null,
   "id": "ee7b12cc",
   "metadata": {},
   "outputs": [],
   "source": []
  },
  {
   "cell_type": "code",
   "execution_count": 303,
   "id": "0537a236",
   "metadata": {},
   "outputs": [],
   "source": [
    "X=train_data.drop(columns=['xyz_vaccine','seasonal_vaccine'])"
   ]
  },
  {
   "cell_type": "code",
   "execution_count": 304,
   "id": "57f2ce4f",
   "metadata": {},
   "outputs": [],
   "source": [
    "y = train_data[['xyz_vaccine', 'seasonal_vaccine']]"
   ]
  },
  {
   "cell_type": "code",
   "execution_count": null,
   "id": "bd66584c",
   "metadata": {},
   "outputs": [],
   "source": []
  },
  {
   "cell_type": "code",
   "execution_count": 305,
   "id": "f3a40681",
   "metadata": {},
   "outputs": [],
   "source": [
    "from sklearn.model_selection import train_test_split"
   ]
  },
  {
   "cell_type": "code",
   "execution_count": 306,
   "id": "4a2b047d",
   "metadata": {},
   "outputs": [],
   "source": [
    "X_train,X_test,y_train,y_test=train_test_split(X,y,test_size=0.2,random_state=42)"
   ]
  },
  {
   "cell_type": "code",
   "execution_count": 307,
   "id": "38782129",
   "metadata": {},
   "outputs": [],
   "source": [
    "from sklearn.linear_model import LogisticRegression \n",
    "#from sklearn.neighbors import KNeighnorClassifier\n",
    "from sklearn import svm\n",
    "from sklearn.tree import DecisionTreeClassifier\n",
    "from sklearn.ensemble import RandomForestClassifier\n",
    "from sklearn.ensemble import GradientBoostingClassifier"
   ]
  },
  {
   "cell_type": "code",
   "execution_count": 308,
   "id": "ca37c469",
   "metadata": {},
   "outputs": [
    {
     "data": {
      "text/plain": [
       "xyz_concern                       0\n",
       "xyz_knowledge                     0\n",
       "behavioral_antiviral_meds         0\n",
       "behavioral_avoidance            208\n",
       "behavioral_face_mask              0\n",
       "behavioral_wash_hands            42\n",
       "behavioral_large_gatherings      87\n",
       "behavioral_outside_home          82\n",
       "behavioral_touch_face           128\n",
       "doctor_recc_xyz                2160\n",
       "doctor_recc_seasonal           2160\n",
       "chronic_med_condition           971\n",
       "child_under_6_months            820\n",
       "health_worker                   804\n",
       "health_insurance                  0\n",
       "opinion_xyz_vacc_effective      391\n",
       "opinion_xyz_risk                388\n",
       "opinion_xyz_sick_from_vacc      395\n",
       "opinion_seas_vacc_effective     462\n",
       "opinion_seas_risk               514\n",
       "opinion_seas_sick_from_vacc     537\n",
       "age_group                         0\n",
       "xyz_vaccine                       0\n",
       "seasonal_vaccine                  0\n",
       "dtype: int64"
      ]
     },
     "execution_count": 308,
     "metadata": {},
     "output_type": "execute_result"
    }
   ],
   "source": [
    "train_data.isna().sum()\n"
   ]
  },
  {
   "cell_type": "code",
   "execution_count": 309,
   "id": "629c47a7",
   "metadata": {},
   "outputs": [],
   "source": [
    "train_data=train_data.dropna()"
   ]
  },
  {
   "cell_type": "code",
   "execution_count": 310,
   "id": "e77c1613",
   "metadata": {},
   "outputs": [
    {
     "data": {
      "text/plain": [
       "xyz_concern                    0\n",
       "xyz_knowledge                  0\n",
       "behavioral_antiviral_meds      0\n",
       "behavioral_avoidance           0\n",
       "behavioral_face_mask           0\n",
       "behavioral_wash_hands          0\n",
       "behavioral_large_gatherings    0\n",
       "behavioral_outside_home        0\n",
       "behavioral_touch_face          0\n",
       "doctor_recc_xyz                0\n",
       "doctor_recc_seasonal           0\n",
       "chronic_med_condition          0\n",
       "child_under_6_months           0\n",
       "health_worker                  0\n",
       "health_insurance               0\n",
       "opinion_xyz_vacc_effective     0\n",
       "opinion_xyz_risk               0\n",
       "opinion_xyz_sick_from_vacc     0\n",
       "opinion_seas_vacc_effective    0\n",
       "opinion_seas_risk              0\n",
       "opinion_seas_sick_from_vacc    0\n",
       "age_group                      0\n",
       "xyz_vaccine                    0\n",
       "seasonal_vaccine               0\n",
       "dtype: int64"
      ]
     },
     "execution_count": 310,
     "metadata": {},
     "output_type": "execute_result"
    }
   ],
   "source": [
    "train_data.isna().sum()"
   ]
  },
  {
   "cell_type": "code",
   "execution_count": 311,
   "id": "f18e66cb",
   "metadata": {},
   "outputs": [
    {
     "data": {
      "text/plain": [
       "(23168, 24)"
      ]
     },
     "execution_count": 311,
     "metadata": {},
     "output_type": "execute_result"
    }
   ],
   "source": [
    "train_data.shape"
   ]
  },
  {
   "cell_type": "code",
   "execution_count": 312,
   "id": "caf4bfde",
   "metadata": {},
   "outputs": [],
   "source": [
    "X=train_data.drop(columns=['xyz_vaccine','seasonal_vaccine','doctor_recc_seasonal','opinion_seas_vacc_effective','opinion_seas_risk','opinion_seas_sick_from_vacc'])"
   ]
  },
  {
   "cell_type": "code",
   "execution_count": 313,
   "id": "d21be395",
   "metadata": {},
   "outputs": [],
   "source": [
    "y = train_data['xyz_vaccine']"
   ]
  },
  {
   "cell_type": "code",
   "execution_count": 314,
   "id": "82e66206",
   "metadata": {},
   "outputs": [],
   "source": [
    "from sklearn.model_selection import train_test_split"
   ]
  },
  {
   "cell_type": "code",
   "execution_count": 315,
   "id": "9796a937",
   "metadata": {},
   "outputs": [],
   "source": [
    "X_train,X_test,y_train,y_test=train_test_split(X,y,test_size=0.2,random_state=42)"
   ]
  },
  {
   "cell_type": "code",
   "execution_count": 316,
   "id": "41c20062",
   "metadata": {},
   "outputs": [],
   "source": [
    "from sklearn.linear_model import LogisticRegression \n",
    "#from sklearn.neighbors import KNeighnorClassifier\n",
    "from sklearn import svm\n",
    "from sklearn.tree import DecisionTreeClassifier\n",
    "from sklearn.ensemble import RandomForestClassifier\n",
    "from sklearn.ensemble import GradientBoostingClassifier"
   ]
  },
  {
   "cell_type": "code",
   "execution_count": 317,
   "id": "90b9c805",
   "metadata": {},
   "outputs": [
    {
     "data": {
      "text/html": [
       "<style>#sk-container-id-9 {color: black;}#sk-container-id-9 pre{padding: 0;}#sk-container-id-9 div.sk-toggleable {background-color: white;}#sk-container-id-9 label.sk-toggleable__label {cursor: pointer;display: block;width: 100%;margin-bottom: 0;padding: 0.3em;box-sizing: border-box;text-align: center;}#sk-container-id-9 label.sk-toggleable__label-arrow:before {content: \"▸\";float: left;margin-right: 0.25em;color: #696969;}#sk-container-id-9 label.sk-toggleable__label-arrow:hover:before {color: black;}#sk-container-id-9 div.sk-estimator:hover label.sk-toggleable__label-arrow:before {color: black;}#sk-container-id-9 div.sk-toggleable__content {max-height: 0;max-width: 0;overflow: hidden;text-align: left;background-color: #f0f8ff;}#sk-container-id-9 div.sk-toggleable__content pre {margin: 0.2em;color: black;border-radius: 0.25em;background-color: #f0f8ff;}#sk-container-id-9 input.sk-toggleable__control:checked~div.sk-toggleable__content {max-height: 200px;max-width: 100%;overflow: auto;}#sk-container-id-9 input.sk-toggleable__control:checked~label.sk-toggleable__label-arrow:before {content: \"▾\";}#sk-container-id-9 div.sk-estimator input.sk-toggleable__control:checked~label.sk-toggleable__label {background-color: #d4ebff;}#sk-container-id-9 div.sk-label input.sk-toggleable__control:checked~label.sk-toggleable__label {background-color: #d4ebff;}#sk-container-id-9 input.sk-hidden--visually {border: 0;clip: rect(1px 1px 1px 1px);clip: rect(1px, 1px, 1px, 1px);height: 1px;margin: -1px;overflow: hidden;padding: 0;position: absolute;width: 1px;}#sk-container-id-9 div.sk-estimator {font-family: monospace;background-color: #f0f8ff;border: 1px dotted black;border-radius: 0.25em;box-sizing: border-box;margin-bottom: 0.5em;}#sk-container-id-9 div.sk-estimator:hover {background-color: #d4ebff;}#sk-container-id-9 div.sk-parallel-item::after {content: \"\";width: 100%;border-bottom: 1px solid gray;flex-grow: 1;}#sk-container-id-9 div.sk-label:hover label.sk-toggleable__label {background-color: #d4ebff;}#sk-container-id-9 div.sk-serial::before {content: \"\";position: absolute;border-left: 1px solid gray;box-sizing: border-box;top: 0;bottom: 0;left: 50%;z-index: 0;}#sk-container-id-9 div.sk-serial {display: flex;flex-direction: column;align-items: center;background-color: white;padding-right: 0.2em;padding-left: 0.2em;position: relative;}#sk-container-id-9 div.sk-item {position: relative;z-index: 1;}#sk-container-id-9 div.sk-parallel {display: flex;align-items: stretch;justify-content: center;background-color: white;position: relative;}#sk-container-id-9 div.sk-item::before, #sk-container-id-9 div.sk-parallel-item::before {content: \"\";position: absolute;border-left: 1px solid gray;box-sizing: border-box;top: 0;bottom: 0;left: 50%;z-index: -1;}#sk-container-id-9 div.sk-parallel-item {display: flex;flex-direction: column;z-index: 1;position: relative;background-color: white;}#sk-container-id-9 div.sk-parallel-item:first-child::after {align-self: flex-end;width: 50%;}#sk-container-id-9 div.sk-parallel-item:last-child::after {align-self: flex-start;width: 50%;}#sk-container-id-9 div.sk-parallel-item:only-child::after {width: 0;}#sk-container-id-9 div.sk-dashed-wrapped {border: 1px dashed gray;margin: 0 0.4em 0.5em 0.4em;box-sizing: border-box;padding-bottom: 0.4em;background-color: white;}#sk-container-id-9 div.sk-label label {font-family: monospace;font-weight: bold;display: inline-block;line-height: 1.2em;}#sk-container-id-9 div.sk-label-container {text-align: center;}#sk-container-id-9 div.sk-container {/* jupyter's `normalize.less` sets `[hidden] { display: none; }` but bootstrap.min.css set `[hidden] { display: none !important; }` so we also need the `!important` here to be able to override the default hidden behavior on the sphinx rendered scikit-learn.org. See: https://github.com/scikit-learn/scikit-learn/issues/21755 */display: inline-block !important;position: relative;}#sk-container-id-9 div.sk-text-repr-fallback {display: none;}</style><div id=\"sk-container-id-9\" class=\"sk-top-container\"><div class=\"sk-text-repr-fallback\"><pre>GradientBoostingClassifier()</pre><b>In a Jupyter environment, please rerun this cell to show the HTML representation or trust the notebook. <br />On GitHub, the HTML representation is unable to render, please try loading this page with nbviewer.org.</b></div><div class=\"sk-container\" hidden><div class=\"sk-item\"><div class=\"sk-estimator sk-toggleable\"><input class=\"sk-toggleable__control sk-hidden--visually\" id=\"sk-estimator-id-9\" type=\"checkbox\" checked><label for=\"sk-estimator-id-9\" class=\"sk-toggleable__label sk-toggleable__label-arrow\">GradientBoostingClassifier</label><div class=\"sk-toggleable__content\"><pre>GradientBoostingClassifier()</pre></div></div></div></div></div>"
      ],
      "text/plain": [
       "GradientBoostingClassifier()"
      ]
     },
     "execution_count": 317,
     "metadata": {},
     "output_type": "execute_result"
    }
   ],
   "source": [
    "lr=LogisticRegression()\n",
    "lr.fit(X_train,y_train)\n",
    "\n",
    "svm=svm.SVC()\n",
    "svm.fit(X_train,y_train)\n",
    "\n",
    "dt=DecisionTreeClassifier()\n",
    "dt.fit(X_train,y_train)\n",
    "\n",
    "rd=RandomForestClassifier()\n",
    "rd.fit(X_train,y_train)\n",
    "\n",
    "gd=GradientBoostingClassifier()\n",
    "gd.fit(X_train,y_train)"
   ]
  },
  {
   "cell_type": "code",
   "execution_count": 318,
   "id": "32221b10",
   "metadata": {},
   "outputs": [],
   "source": [
    "ypredict1=lr.predict(X_test)\n",
    "ypredict2=svm.predict(X_test)\n",
    "ypredict3=dt.predict(X_test)\n",
    "ypredict4=rd.predict(X_test)\n",
    "ypredict5=gd.predict(X_test)\n"
   ]
  },
  {
   "cell_type": "code",
   "execution_count": 319,
   "id": "9d8e498c",
   "metadata": {},
   "outputs": [],
   "source": [
    "from sklearn.metrics import accuracy_score"
   ]
  },
  {
   "cell_type": "code",
   "execution_count": 320,
   "id": "c8870894",
   "metadata": {},
   "outputs": [],
   "source": [
    "score1=accuracy_score(y_test,ypredict1)\n",
    "score2=accuracy_score(y_test,ypredict2)\n",
    "score3=accuracy_score(y_test,ypredict3)\n",
    "score4=accuracy_score(y_test,ypredict4)\n",
    "score5=accuracy_score(y_test,ypredict5)\n"
   ]
  },
  {
   "cell_type": "code",
   "execution_count": 321,
   "id": "b1b99af6",
   "metadata": {},
   "outputs": [
    {
     "name": "stdout",
     "output_type": "stream",
     "text": [
      "0.8256365990504964 0.8262839879154078 0.7604661199827363 0.8081570996978852 0.8254208027621925\n"
     ]
    }
   ],
   "source": [
    "print(score1,score2,score3,score4,score5)"
   ]
  },
  {
   "cell_type": "code",
   "execution_count": 322,
   "id": "d46027e3",
   "metadata": {},
   "outputs": [
    {
     "data": {
      "text/html": [
       "<style>#sk-container-id-10 {color: black;}#sk-container-id-10 pre{padding: 0;}#sk-container-id-10 div.sk-toggleable {background-color: white;}#sk-container-id-10 label.sk-toggleable__label {cursor: pointer;display: block;width: 100%;margin-bottom: 0;padding: 0.3em;box-sizing: border-box;text-align: center;}#sk-container-id-10 label.sk-toggleable__label-arrow:before {content: \"▸\";float: left;margin-right: 0.25em;color: #696969;}#sk-container-id-10 label.sk-toggleable__label-arrow:hover:before {color: black;}#sk-container-id-10 div.sk-estimator:hover label.sk-toggleable__label-arrow:before {color: black;}#sk-container-id-10 div.sk-toggleable__content {max-height: 0;max-width: 0;overflow: hidden;text-align: left;background-color: #f0f8ff;}#sk-container-id-10 div.sk-toggleable__content pre {margin: 0.2em;color: black;border-radius: 0.25em;background-color: #f0f8ff;}#sk-container-id-10 input.sk-toggleable__control:checked~div.sk-toggleable__content {max-height: 200px;max-width: 100%;overflow: auto;}#sk-container-id-10 input.sk-toggleable__control:checked~label.sk-toggleable__label-arrow:before {content: \"▾\";}#sk-container-id-10 div.sk-estimator input.sk-toggleable__control:checked~label.sk-toggleable__label {background-color: #d4ebff;}#sk-container-id-10 div.sk-label input.sk-toggleable__control:checked~label.sk-toggleable__label {background-color: #d4ebff;}#sk-container-id-10 input.sk-hidden--visually {border: 0;clip: rect(1px 1px 1px 1px);clip: rect(1px, 1px, 1px, 1px);height: 1px;margin: -1px;overflow: hidden;padding: 0;position: absolute;width: 1px;}#sk-container-id-10 div.sk-estimator {font-family: monospace;background-color: #f0f8ff;border: 1px dotted black;border-radius: 0.25em;box-sizing: border-box;margin-bottom: 0.5em;}#sk-container-id-10 div.sk-estimator:hover {background-color: #d4ebff;}#sk-container-id-10 div.sk-parallel-item::after {content: \"\";width: 100%;border-bottom: 1px solid gray;flex-grow: 1;}#sk-container-id-10 div.sk-label:hover label.sk-toggleable__label {background-color: #d4ebff;}#sk-container-id-10 div.sk-serial::before {content: \"\";position: absolute;border-left: 1px solid gray;box-sizing: border-box;top: 0;bottom: 0;left: 50%;z-index: 0;}#sk-container-id-10 div.sk-serial {display: flex;flex-direction: column;align-items: center;background-color: white;padding-right: 0.2em;padding-left: 0.2em;position: relative;}#sk-container-id-10 div.sk-item {position: relative;z-index: 1;}#sk-container-id-10 div.sk-parallel {display: flex;align-items: stretch;justify-content: center;background-color: white;position: relative;}#sk-container-id-10 div.sk-item::before, #sk-container-id-10 div.sk-parallel-item::before {content: \"\";position: absolute;border-left: 1px solid gray;box-sizing: border-box;top: 0;bottom: 0;left: 50%;z-index: -1;}#sk-container-id-10 div.sk-parallel-item {display: flex;flex-direction: column;z-index: 1;position: relative;background-color: white;}#sk-container-id-10 div.sk-parallel-item:first-child::after {align-self: flex-end;width: 50%;}#sk-container-id-10 div.sk-parallel-item:last-child::after {align-self: flex-start;width: 50%;}#sk-container-id-10 div.sk-parallel-item:only-child::after {width: 0;}#sk-container-id-10 div.sk-dashed-wrapped {border: 1px dashed gray;margin: 0 0.4em 0.5em 0.4em;box-sizing: border-box;padding-bottom: 0.4em;background-color: white;}#sk-container-id-10 div.sk-label label {font-family: monospace;font-weight: bold;display: inline-block;line-height: 1.2em;}#sk-container-id-10 div.sk-label-container {text-align: center;}#sk-container-id-10 div.sk-container {/* jupyter's `normalize.less` sets `[hidden] { display: none; }` but bootstrap.min.css set `[hidden] { display: none !important; }` so we also need the `!important` here to be able to override the default hidden behavior on the sphinx rendered scikit-learn.org. See: https://github.com/scikit-learn/scikit-learn/issues/21755 */display: inline-block !important;position: relative;}#sk-container-id-10 div.sk-text-repr-fallback {display: none;}</style><div id=\"sk-container-id-10\" class=\"sk-top-container\"><div class=\"sk-text-repr-fallback\"><pre>LogisticRegression()</pre><b>In a Jupyter environment, please rerun this cell to show the HTML representation or trust the notebook. <br />On GitHub, the HTML representation is unable to render, please try loading this page with nbviewer.org.</b></div><div class=\"sk-container\" hidden><div class=\"sk-item\"><div class=\"sk-estimator sk-toggleable\"><input class=\"sk-toggleable__control sk-hidden--visually\" id=\"sk-estimator-id-10\" type=\"checkbox\" checked><label for=\"sk-estimator-id-10\" class=\"sk-toggleable__label sk-toggleable__label-arrow\">LogisticRegression</label><div class=\"sk-toggleable__content\"><pre>LogisticRegression()</pre></div></div></div></div></div>"
      ],
      "text/plain": [
       "LogisticRegression()"
      ]
     },
     "execution_count": 322,
     "metadata": {},
     "output_type": "execute_result"
    }
   ],
   "source": [
    "lr=LogisticRegression()\n",
    "lr.fit(X,y)"
   ]
  },
  {
   "cell_type": "code",
   "execution_count": 323,
   "id": "a5c43153",
   "metadata": {},
   "outputs": [],
   "source": [
    "\n",
    "X1=train_data.drop(columns=['xyz_vaccine','seasonal_vaccine','doctor_recc_xyz','opinion_xyz_vacc_effective','opinion_xyz_risk','opinion_xyz_sick_from_vacc'])"
   ]
  },
  {
   "cell_type": "code",
   "execution_count": 324,
   "id": "00f348f9",
   "metadata": {},
   "outputs": [],
   "source": [
    "y1= train_data['seasonal_vaccine']"
   ]
  },
  {
   "cell_type": "code",
   "execution_count": 325,
   "id": "4e94c081",
   "metadata": {},
   "outputs": [
    {
     "data": {
      "text/html": [
       "<style>#sk-container-id-11 {color: black;}#sk-container-id-11 pre{padding: 0;}#sk-container-id-11 div.sk-toggleable {background-color: white;}#sk-container-id-11 label.sk-toggleable__label {cursor: pointer;display: block;width: 100%;margin-bottom: 0;padding: 0.3em;box-sizing: border-box;text-align: center;}#sk-container-id-11 label.sk-toggleable__label-arrow:before {content: \"▸\";float: left;margin-right: 0.25em;color: #696969;}#sk-container-id-11 label.sk-toggleable__label-arrow:hover:before {color: black;}#sk-container-id-11 div.sk-estimator:hover label.sk-toggleable__label-arrow:before {color: black;}#sk-container-id-11 div.sk-toggleable__content {max-height: 0;max-width: 0;overflow: hidden;text-align: left;background-color: #f0f8ff;}#sk-container-id-11 div.sk-toggleable__content pre {margin: 0.2em;color: black;border-radius: 0.25em;background-color: #f0f8ff;}#sk-container-id-11 input.sk-toggleable__control:checked~div.sk-toggleable__content {max-height: 200px;max-width: 100%;overflow: auto;}#sk-container-id-11 input.sk-toggleable__control:checked~label.sk-toggleable__label-arrow:before {content: \"▾\";}#sk-container-id-11 div.sk-estimator input.sk-toggleable__control:checked~label.sk-toggleable__label {background-color: #d4ebff;}#sk-container-id-11 div.sk-label input.sk-toggleable__control:checked~label.sk-toggleable__label {background-color: #d4ebff;}#sk-container-id-11 input.sk-hidden--visually {border: 0;clip: rect(1px 1px 1px 1px);clip: rect(1px, 1px, 1px, 1px);height: 1px;margin: -1px;overflow: hidden;padding: 0;position: absolute;width: 1px;}#sk-container-id-11 div.sk-estimator {font-family: monospace;background-color: #f0f8ff;border: 1px dotted black;border-radius: 0.25em;box-sizing: border-box;margin-bottom: 0.5em;}#sk-container-id-11 div.sk-estimator:hover {background-color: #d4ebff;}#sk-container-id-11 div.sk-parallel-item::after {content: \"\";width: 100%;border-bottom: 1px solid gray;flex-grow: 1;}#sk-container-id-11 div.sk-label:hover label.sk-toggleable__label {background-color: #d4ebff;}#sk-container-id-11 div.sk-serial::before {content: \"\";position: absolute;border-left: 1px solid gray;box-sizing: border-box;top: 0;bottom: 0;left: 50%;z-index: 0;}#sk-container-id-11 div.sk-serial {display: flex;flex-direction: column;align-items: center;background-color: white;padding-right: 0.2em;padding-left: 0.2em;position: relative;}#sk-container-id-11 div.sk-item {position: relative;z-index: 1;}#sk-container-id-11 div.sk-parallel {display: flex;align-items: stretch;justify-content: center;background-color: white;position: relative;}#sk-container-id-11 div.sk-item::before, #sk-container-id-11 div.sk-parallel-item::before {content: \"\";position: absolute;border-left: 1px solid gray;box-sizing: border-box;top: 0;bottom: 0;left: 50%;z-index: -1;}#sk-container-id-11 div.sk-parallel-item {display: flex;flex-direction: column;z-index: 1;position: relative;background-color: white;}#sk-container-id-11 div.sk-parallel-item:first-child::after {align-self: flex-end;width: 50%;}#sk-container-id-11 div.sk-parallel-item:last-child::after {align-self: flex-start;width: 50%;}#sk-container-id-11 div.sk-parallel-item:only-child::after {width: 0;}#sk-container-id-11 div.sk-dashed-wrapped {border: 1px dashed gray;margin: 0 0.4em 0.5em 0.4em;box-sizing: border-box;padding-bottom: 0.4em;background-color: white;}#sk-container-id-11 div.sk-label label {font-family: monospace;font-weight: bold;display: inline-block;line-height: 1.2em;}#sk-container-id-11 div.sk-label-container {text-align: center;}#sk-container-id-11 div.sk-container {/* jupyter's `normalize.less` sets `[hidden] { display: none; }` but bootstrap.min.css set `[hidden] { display: none !important; }` so we also need the `!important` here to be able to override the default hidden behavior on the sphinx rendered scikit-learn.org. See: https://github.com/scikit-learn/scikit-learn/issues/21755 */display: inline-block !important;position: relative;}#sk-container-id-11 div.sk-text-repr-fallback {display: none;}</style><div id=\"sk-container-id-11\" class=\"sk-top-container\"><div class=\"sk-text-repr-fallback\"><pre>LogisticRegression()</pre><b>In a Jupyter environment, please rerun this cell to show the HTML representation or trust the notebook. <br />On GitHub, the HTML representation is unable to render, please try loading this page with nbviewer.org.</b></div><div class=\"sk-container\" hidden><div class=\"sk-item\"><div class=\"sk-estimator sk-toggleable\"><input class=\"sk-toggleable__control sk-hidden--visually\" id=\"sk-estimator-id-11\" type=\"checkbox\" checked><label for=\"sk-estimator-id-11\" class=\"sk-toggleable__label sk-toggleable__label-arrow\">LogisticRegression</label><div class=\"sk-toggleable__content\"><pre>LogisticRegression()</pre></div></div></div></div></div>"
      ],
      "text/plain": [
       "LogisticRegression()"
      ]
     },
     "execution_count": 325,
     "metadata": {},
     "output_type": "execute_result"
    }
   ],
   "source": [
    "lr1=LogisticRegression()\n",
    "lr1.fit(X1,y1)"
   ]
  },
  {
   "cell_type": "code",
   "execution_count": 326,
   "id": "cbb9d3d4",
   "metadata": {},
   "outputs": [
    {
     "name": "stdout",
     "output_type": "stream",
     "text": [
      "<class 'pandas.core.frame.DataFrame'>\n",
      "Int64Index: 23168 entries, 0 to 26706\n",
      "Data columns (total 24 columns):\n",
      " #   Column                       Non-Null Count  Dtype  \n",
      "---  ------                       --------------  -----  \n",
      " 0   xyz_concern                  23168 non-null  float64\n",
      " 1   xyz_knowledge                23168 non-null  float64\n",
      " 2   behavioral_antiviral_meds    23168 non-null  float64\n",
      " 3   behavioral_avoidance         23168 non-null  float64\n",
      " 4   behavioral_face_mask         23168 non-null  float64\n",
      " 5   behavioral_wash_hands        23168 non-null  float64\n",
      " 6   behavioral_large_gatherings  23168 non-null  float64\n",
      " 7   behavioral_outside_home      23168 non-null  float64\n",
      " 8   behavioral_touch_face        23168 non-null  float64\n",
      " 9   doctor_recc_xyz              23168 non-null  float64\n",
      " 10  doctor_recc_seasonal         23168 non-null  float64\n",
      " 11  chronic_med_condition        23168 non-null  float64\n",
      " 12  child_under_6_months         23168 non-null  float64\n",
      " 13  health_worker                23168 non-null  float64\n",
      " 14  health_insurance             23168 non-null  float64\n",
      " 15  opinion_xyz_vacc_effective   23168 non-null  float64\n",
      " 16  opinion_xyz_risk             23168 non-null  float64\n",
      " 17  opinion_xyz_sick_from_vacc   23168 non-null  float64\n",
      " 18  opinion_seas_vacc_effective  23168 non-null  float64\n",
      " 19  opinion_seas_risk            23168 non-null  float64\n",
      " 20  opinion_seas_sick_from_vacc  23168 non-null  float64\n",
      " 21  age_group                    23168 non-null  int64  \n",
      " 22  xyz_vaccine                  23168 non-null  int64  \n",
      " 23  seasonal_vaccine             23168 non-null  int64  \n",
      "dtypes: float64(21), int64(3)\n",
      "memory usage: 4.4 MB\n"
     ]
    }
   ],
   "source": [
    "train_data.info()"
   ]
  },
  {
   "cell_type": "code",
   "execution_count": 327,
   "id": "e0b5fc6a",
   "metadata": {},
   "outputs": [
    {
     "name": "stdout",
     "output_type": "stream",
     "text": [
      "<class 'pandas.core.frame.DataFrame'>\n",
      "RangeIndex: 26708 entries, 0 to 26707\n",
      "Data columns (total 36 columns):\n",
      " #   Column                       Non-Null Count  Dtype  \n",
      "---  ------                       --------------  -----  \n",
      " 0   respondent_id                26708 non-null  int64  \n",
      " 1   xyz_concern                  26623 non-null  float64\n",
      " 2   xyz_knowledge                26586 non-null  float64\n",
      " 3   behavioral_antiviral_meds    26629 non-null  float64\n",
      " 4   behavioral_avoidance         26495 non-null  float64\n",
      " 5   behavioral_face_mask         26689 non-null  float64\n",
      " 6   behavioral_wash_hands        26668 non-null  float64\n",
      " 7   behavioral_large_gatherings  26636 non-null  float64\n",
      " 8   behavioral_outside_home      26626 non-null  float64\n",
      " 9   behavioral_touch_face        26580 non-null  float64\n",
      " 10  doctor_recc_xyz              24548 non-null  float64\n",
      " 11  doctor_recc_seasonal         24548 non-null  float64\n",
      " 12  chronic_med_condition        25776 non-null  float64\n",
      " 13  child_under_6_months         25895 non-null  float64\n",
      " 14  health_worker                25919 non-null  float64\n",
      " 15  health_insurance             14480 non-null  float64\n",
      " 16  opinion_xyz_vacc_effective   26310 non-null  float64\n",
      " 17  opinion_xyz_risk             26328 non-null  float64\n",
      " 18  opinion_xyz_sick_from_vacc   26333 non-null  float64\n",
      " 19  opinion_seas_vacc_effective  26256 non-null  float64\n",
      " 20  opinion_seas_risk            26209 non-null  float64\n",
      " 21  opinion_seas_sick_from_vacc  26187 non-null  float64\n",
      " 22  age_group                    26708 non-null  object \n",
      " 23  education                    25301 non-null  object \n",
      " 24  race                         26708 non-null  object \n",
      " 25  sex                          26708 non-null  object \n",
      " 26  income_poverty               22211 non-null  object \n",
      " 27  marital_status               25266 non-null  object \n",
      " 28  rent_or_own                  24672 non-null  object \n",
      " 29  employment_status            25237 non-null  object \n",
      " 30  hhs_geo_region               26708 non-null  object \n",
      " 31  census_msa                   26708 non-null  object \n",
      " 32  household_adults             26483 non-null  float64\n",
      " 33  household_children           26483 non-null  float64\n",
      " 34  employment_industry          13433 non-null  object \n",
      " 35  employment_occupation        13282 non-null  object \n",
      "dtypes: float64(23), int64(1), object(12)\n",
      "memory usage: 7.3+ MB\n"
     ]
    }
   ],
   "source": [
    "test_features.info()"
   ]
  },
  {
   "cell_type": "code",
   "execution_count": 328,
   "id": "af4eaae8",
   "metadata": {},
   "outputs": [],
   "source": [
    "test_features=test_features.drop(columns=['employment_occupation','employment_industry','household_children','household_adults','census_msa','hhs_geo_region','employment_status','rent_or_own','marital_status','income_poverty','sex','race','education'])"
   ]
  },
  {
   "cell_type": "code",
   "execution_count": 329,
   "id": "8d7195c6",
   "metadata": {},
   "outputs": [
    {
     "name": "stdout",
     "output_type": "stream",
     "text": [
      "<class 'pandas.core.frame.DataFrame'>\n",
      "RangeIndex: 26708 entries, 0 to 26707\n",
      "Data columns (total 23 columns):\n",
      " #   Column                       Non-Null Count  Dtype  \n",
      "---  ------                       --------------  -----  \n",
      " 0   respondent_id                26708 non-null  int64  \n",
      " 1   xyz_concern                  26623 non-null  float64\n",
      " 2   xyz_knowledge                26586 non-null  float64\n",
      " 3   behavioral_antiviral_meds    26629 non-null  float64\n",
      " 4   behavioral_avoidance         26495 non-null  float64\n",
      " 5   behavioral_face_mask         26689 non-null  float64\n",
      " 6   behavioral_wash_hands        26668 non-null  float64\n",
      " 7   behavioral_large_gatherings  26636 non-null  float64\n",
      " 8   behavioral_outside_home      26626 non-null  float64\n",
      " 9   behavioral_touch_face        26580 non-null  float64\n",
      " 10  doctor_recc_xyz              24548 non-null  float64\n",
      " 11  doctor_recc_seasonal         24548 non-null  float64\n",
      " 12  chronic_med_condition        25776 non-null  float64\n",
      " 13  child_under_6_months         25895 non-null  float64\n",
      " 14  health_worker                25919 non-null  float64\n",
      " 15  health_insurance             14480 non-null  float64\n",
      " 16  opinion_xyz_vacc_effective   26310 non-null  float64\n",
      " 17  opinion_xyz_risk             26328 non-null  float64\n",
      " 18  opinion_xyz_sick_from_vacc   26333 non-null  float64\n",
      " 19  opinion_seas_vacc_effective  26256 non-null  float64\n",
      " 20  opinion_seas_risk            26209 non-null  float64\n",
      " 21  opinion_seas_sick_from_vacc  26187 non-null  float64\n",
      " 22  age_group                    26708 non-null  object \n",
      "dtypes: float64(21), int64(1), object(1)\n",
      "memory usage: 4.7+ MB\n"
     ]
    }
   ],
   "source": [
    "test_features.info()"
   ]
  },
  {
   "cell_type": "code",
   "execution_count": 330,
   "id": "d362e495",
   "metadata": {},
   "outputs": [],
   "source": [
    "test_features['health_insurance'].fillna(1, inplace=True)"
   ]
  },
  {
   "cell_type": "code",
   "execution_count": 331,
   "id": "c89a5c37",
   "metadata": {},
   "outputs": [],
   "source": [
    "mode_xyz_concern = test_features['xyz_concern'].mode()[0]\n",
    "test_features['xyz_concern'].fillna(mode_xyz_concern, inplace=True)"
   ]
  },
  {
   "cell_type": "code",
   "execution_count": 332,
   "id": "a74e30d4",
   "metadata": {},
   "outputs": [],
   "source": [
    "mode_xyz_knowledge = test_features['xyz_knowledge'].mode()[0]\n",
    "test_features['xyz_knowledge'].fillna(mode_xyz_knowledge, inplace=True)"
   ]
  },
  {
   "cell_type": "code",
   "execution_count": 335,
   "id": "ddec5bda",
   "metadata": {},
   "outputs": [],
   "source": [
    "test_features['age_group']=test_features['age_group'].map({'55 - 64 Years':0,'35 - 44 Years':1,'18 - 34 Years':2,'65+ Years':3,'45 - 54 Years':4})"
   ]
  },
  {
   "cell_type": "code",
   "execution_count": 338,
   "id": "a891b49f",
   "metadata": {},
   "outputs": [],
   "source": [
    "test_features['behavioral_antiviral_meds'] = test_features['behavioral_antiviral_meds'].fillna(0)"
   ]
  },
  {
   "cell_type": "code",
   "execution_count": 339,
   "id": "eff84ba2",
   "metadata": {},
   "outputs": [],
   "source": [
    "test_features['behavioral_face_mask'] = test_features['behavioral_face_mask'].fillna(0)"
   ]
  },
  {
   "cell_type": "code",
   "execution_count": 340,
   "id": "6107f323",
   "metadata": {},
   "outputs": [],
   "source": [
    "test_features=test_features.dropna()"
   ]
  },
  {
   "cell_type": "code",
   "execution_count": 341,
   "id": "e5d3230e",
   "metadata": {},
   "outputs": [
    {
     "name": "stdout",
     "output_type": "stream",
     "text": [
      "<class 'pandas.core.frame.DataFrame'>\n",
      "Int64Index: 23182 entries, 0 to 26707\n",
      "Data columns (total 23 columns):\n",
      " #   Column                       Non-Null Count  Dtype  \n",
      "---  ------                       --------------  -----  \n",
      " 0   respondent_id                23182 non-null  int64  \n",
      " 1   xyz_concern                  23182 non-null  float64\n",
      " 2   xyz_knowledge                23182 non-null  float64\n",
      " 3   behavioral_antiviral_meds    23182 non-null  float64\n",
      " 4   behavioral_avoidance         23182 non-null  float64\n",
      " 5   behavioral_face_mask         23182 non-null  float64\n",
      " 6   behavioral_wash_hands        23182 non-null  float64\n",
      " 7   behavioral_large_gatherings  23182 non-null  float64\n",
      " 8   behavioral_outside_home      23182 non-null  float64\n",
      " 9   behavioral_touch_face        23182 non-null  float64\n",
      " 10  doctor_recc_xyz              23182 non-null  float64\n",
      " 11  doctor_recc_seasonal         23182 non-null  float64\n",
      " 12  chronic_med_condition        23182 non-null  float64\n",
      " 13  child_under_6_months         23182 non-null  float64\n",
      " 14  health_worker                23182 non-null  float64\n",
      " 15  health_insurance             23182 non-null  float64\n",
      " 16  opinion_xyz_vacc_effective   23182 non-null  float64\n",
      " 17  opinion_xyz_risk             23182 non-null  float64\n",
      " 18  opinion_xyz_sick_from_vacc   23182 non-null  float64\n",
      " 19  opinion_seas_vacc_effective  23182 non-null  float64\n",
      " 20  opinion_seas_risk            23182 non-null  float64\n",
      " 21  opinion_seas_sick_from_vacc  23182 non-null  float64\n",
      " 22  age_group                    23182 non-null  int64  \n",
      "dtypes: float64(21), int64(2)\n",
      "memory usage: 4.2 MB\n"
     ]
    }
   ],
   "source": [
    "test_features.info()"
   ]
  },
  {
   "cell_type": "code",
   "execution_count": 343,
   "id": "ebf44a5d",
   "metadata": {},
   "outputs": [
    {
     "data": {
      "text/plain": [
       "Index(['xyz_concern', 'xyz_knowledge', 'behavioral_antiviral_meds',\n",
       "       'behavioral_avoidance', 'behavioral_face_mask', 'behavioral_wash_hands',\n",
       "       'behavioral_large_gatherings', 'behavioral_outside_home',\n",
       "       'behavioral_touch_face', 'doctor_recc_xyz', 'chronic_med_condition',\n",
       "       'child_under_6_months', 'health_worker', 'health_insurance',\n",
       "       'opinion_xyz_vacc_effective', 'opinion_xyz_risk',\n",
       "       'opinion_xyz_sick_from_vacc', 'age_group'],\n",
       "      dtype='object')"
      ]
     },
     "execution_count": 343,
     "metadata": {},
     "output_type": "execute_result"
    }
   ],
   "source": [
    "X.columns"
   ]
  },
  {
   "cell_type": "code",
   "execution_count": 346,
   "id": "5d47b59b",
   "metadata": {},
   "outputs": [],
   "source": [
    "df_xyz=test_features[['xyz_concern', 'xyz_knowledge', 'behavioral_antiviral_meds',\n",
    "       'behavioral_avoidance', 'behavioral_face_mask', 'behavioral_wash_hands',\n",
    "       'behavioral_large_gatherings', 'behavioral_outside_home',\n",
    "       'behavioral_touch_face', 'doctor_recc_xyz', 'chronic_med_condition',\n",
    "       'child_under_6_months', 'health_worker', 'health_insurance',\n",
    "       'opinion_xyz_vacc_effective', 'opinion_xyz_risk',\n",
    "       'opinion_xyz_sick_from_vacc', 'age_group']].copy()"
   ]
  },
  {
   "cell_type": "code",
   "execution_count": 348,
   "id": "3b7a2401",
   "metadata": {},
   "outputs": [
    {
     "data": {
      "text/plain": [
       "Index(['xyz_concern', 'xyz_knowledge', 'behavioral_antiviral_meds',\n",
       "       'behavioral_avoidance', 'behavioral_face_mask', 'behavioral_wash_hands',\n",
       "       'behavioral_large_gatherings', 'behavioral_outside_home',\n",
       "       'behavioral_touch_face', 'doctor_recc_seasonal',\n",
       "       'chronic_med_condition', 'child_under_6_months', 'health_worker',\n",
       "       'health_insurance', 'opinion_seas_vacc_effective', 'opinion_seas_risk',\n",
       "       'opinion_seas_sick_from_vacc', 'age_group'],\n",
       "      dtype='object')"
      ]
     },
     "execution_count": 348,
     "metadata": {},
     "output_type": "execute_result"
    }
   ],
   "source": [
    "X1.columns"
   ]
  },
  {
   "cell_type": "code",
   "execution_count": 349,
   "id": "f5eb08fd",
   "metadata": {},
   "outputs": [],
   "source": [
    "df_seasonal=test_features[['xyz_concern', 'xyz_knowledge', 'behavioral_antiviral_meds',\n",
    "       'behavioral_avoidance', 'behavioral_face_mask', 'behavioral_wash_hands',\n",
    "       'behavioral_large_gatherings', 'behavioral_outside_home',\n",
    "       'behavioral_touch_face', 'doctor_recc_seasonal',\n",
    "       'chronic_med_condition', 'child_under_6_months', 'health_worker',\n",
    "       'health_insurance', 'opinion_seas_vacc_effective', 'opinion_seas_risk',\n",
    "       'opinion_seas_sick_from_vacc', 'age_group']]"
   ]
  },
  {
   "cell_type": "code",
   "execution_count": 359,
   "id": "ba03a1c1",
   "metadata": {},
   "outputs": [],
   "source": [
    "import numpy as np\n",
    "probabilities_xyz = lr.predict_proba(df_xyz)\n",
    "yes_class_probabilities =probabilities_xyz[:, 1]\n",
    "rounded_probabilities = np.round(yes_class_probabilities,2)"
   ]
  },
  {
   "cell_type": "code",
   "execution_count": 377,
   "id": "c9c6f444",
   "metadata": {},
   "outputs": [],
   "source": [
    "probabilities_seasonal = lr1.predict_proba(df_seasonal)\n",
    "yes_class_probabilities1 = probabilities_seasonal[:, 1]\n",
    "rounded_probabilities1 = np.round(yes_class_probabilities1,2)"
   ]
  },
  {
   "cell_type": "code",
   "execution_count": 378,
   "id": "c16c3460",
   "metadata": {},
   "outputs": [],
   "source": [
    "submission=pd.read_csv('C:\\\\Users\\\\sarva\\\\Downloads\\\\submission_format.csv')"
   ]
  },
  {
   "cell_type": "code",
   "execution_count": 379,
   "id": "c461717c",
   "metadata": {},
   "outputs": [],
   "source": [
    "submission['respondent_id']=test_features['respondent_id']"
   ]
  },
  {
   "cell_type": "code",
   "execution_count": 380,
   "id": "26cf002f",
   "metadata": {},
   "outputs": [],
   "source": [
    "submission['h1n1_vaccine']=rounded_probabilities"
   ]
  },
  {
   "cell_type": "code",
   "execution_count": 381,
   "id": "45bde830",
   "metadata": {},
   "outputs": [],
   "source": [
    "submission['seasonal_vaccine']=rounded_probabilities1"
   ]
  },
  {
   "cell_type": "code",
   "execution_count": 382,
   "id": "b35c919a",
   "metadata": {},
   "outputs": [],
   "source": [
    "submission.to_csv('C:\\\\Users\\\\sarva\\\\Downloads\\\\submission_format.csv',index=False)"
   ]
  },
  {
   "cell_type": "code",
   "execution_count": null,
   "id": "4db953f5",
   "metadata": {},
   "outputs": [],
   "source": []
  }
 ],
 "metadata": {
  "kernelspec": {
   "display_name": "Python 3 (ipykernel)",
   "language": "python",
   "name": "python3"
  },
  "language_info": {
   "codemirror_mode": {
    "name": "ipython",
    "version": 3
   },
   "file_extension": ".py",
   "mimetype": "text/x-python",
   "name": "python",
   "nbconvert_exporter": "python",
   "pygments_lexer": "ipython3",
   "version": "3.11.4"
  }
 },
 "nbformat": 4,
 "nbformat_minor": 5
}
